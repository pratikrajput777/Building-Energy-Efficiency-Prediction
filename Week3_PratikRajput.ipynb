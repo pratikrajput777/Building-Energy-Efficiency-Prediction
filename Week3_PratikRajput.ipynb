{
 "cells": [
  {
   "cell_type": "code",
   "execution_count": 1,
   "id": "6da50a74-50c4-4be9-9bdc-1e4b1e1883ee",
   "metadata": {},
   "outputs": [
    {
     "data": {
      "text/html": [
       "<style>#sk-container-id-1 {color: black;}#sk-container-id-1 pre{padding: 0;}#sk-container-id-1 div.sk-toggleable {background-color: white;}#sk-container-id-1 label.sk-toggleable__label {cursor: pointer;display: block;width: 100%;margin-bottom: 0;padding: 0.3em;box-sizing: border-box;text-align: center;}#sk-container-id-1 label.sk-toggleable__label-arrow:before {content: \"▸\";float: left;margin-right: 0.25em;color: #696969;}#sk-container-id-1 label.sk-toggleable__label-arrow:hover:before {color: black;}#sk-container-id-1 div.sk-estimator:hover label.sk-toggleable__label-arrow:before {color: black;}#sk-container-id-1 div.sk-toggleable__content {max-height: 0;max-width: 0;overflow: hidden;text-align: left;background-color: #f0f8ff;}#sk-container-id-1 div.sk-toggleable__content pre {margin: 0.2em;color: black;border-radius: 0.25em;background-color: #f0f8ff;}#sk-container-id-1 input.sk-toggleable__control:checked~div.sk-toggleable__content {max-height: 200px;max-width: 100%;overflow: auto;}#sk-container-id-1 input.sk-toggleable__control:checked~label.sk-toggleable__label-arrow:before {content: \"▾\";}#sk-container-id-1 div.sk-estimator input.sk-toggleable__control:checked~label.sk-toggleable__label {background-color: #d4ebff;}#sk-container-id-1 div.sk-label input.sk-toggleable__control:checked~label.sk-toggleable__label {background-color: #d4ebff;}#sk-container-id-1 input.sk-hidden--visually {border: 0;clip: rect(1px 1px 1px 1px);clip: rect(1px, 1px, 1px, 1px);height: 1px;margin: -1px;overflow: hidden;padding: 0;position: absolute;width: 1px;}#sk-container-id-1 div.sk-estimator {font-family: monospace;background-color: #f0f8ff;border: 1px dotted black;border-radius: 0.25em;box-sizing: border-box;margin-bottom: 0.5em;}#sk-container-id-1 div.sk-estimator:hover {background-color: #d4ebff;}#sk-container-id-1 div.sk-parallel-item::after {content: \"\";width: 100%;border-bottom: 1px solid gray;flex-grow: 1;}#sk-container-id-1 div.sk-label:hover label.sk-toggleable__label {background-color: #d4ebff;}#sk-container-id-1 div.sk-serial::before {content: \"\";position: absolute;border-left: 1px solid gray;box-sizing: border-box;top: 0;bottom: 0;left: 50%;z-index: 0;}#sk-container-id-1 div.sk-serial {display: flex;flex-direction: column;align-items: center;background-color: white;padding-right: 0.2em;padding-left: 0.2em;position: relative;}#sk-container-id-1 div.sk-item {position: relative;z-index: 1;}#sk-container-id-1 div.sk-parallel {display: flex;align-items: stretch;justify-content: center;background-color: white;position: relative;}#sk-container-id-1 div.sk-item::before, #sk-container-id-1 div.sk-parallel-item::before {content: \"\";position: absolute;border-left: 1px solid gray;box-sizing: border-box;top: 0;bottom: 0;left: 50%;z-index: -1;}#sk-container-id-1 div.sk-parallel-item {display: flex;flex-direction: column;z-index: 1;position: relative;background-color: white;}#sk-container-id-1 div.sk-parallel-item:first-child::after {align-self: flex-end;width: 50%;}#sk-container-id-1 div.sk-parallel-item:last-child::after {align-self: flex-start;width: 50%;}#sk-container-id-1 div.sk-parallel-item:only-child::after {width: 0;}#sk-container-id-1 div.sk-dashed-wrapped {border: 1px dashed gray;margin: 0 0.4em 0.5em 0.4em;box-sizing: border-box;padding-bottom: 0.4em;background-color: white;}#sk-container-id-1 div.sk-label label {font-family: monospace;font-weight: bold;display: inline-block;line-height: 1.2em;}#sk-container-id-1 div.sk-label-container {text-align: center;}#sk-container-id-1 div.sk-container {/* jupyter's `normalize.less` sets `[hidden] { display: none; }` but bootstrap.min.css set `[hidden] { display: none !important; }` so we also need the `!important` here to be able to override the default hidden behavior on the sphinx rendered scikit-learn.org. See: https://github.com/scikit-learn/scikit-learn/issues/21755 */display: inline-block !important;position: relative;}#sk-container-id-1 div.sk-text-repr-fallback {display: none;}</style><div id=\"sk-container-id-1\" class=\"sk-top-container\"><div class=\"sk-text-repr-fallback\"><pre>RandomForestRegressor(random_state=42)</pre><b>In a Jupyter environment, please rerun this cell to show the HTML representation or trust the notebook. <br />On GitHub, the HTML representation is unable to render, please try loading this page with nbviewer.org.</b></div><div class=\"sk-container\" hidden><div class=\"sk-item\"><div class=\"sk-estimator sk-toggleable\"><input class=\"sk-toggleable__control sk-hidden--visually\" id=\"sk-estimator-id-1\" type=\"checkbox\" checked><label for=\"sk-estimator-id-1\" class=\"sk-toggleable__label sk-toggleable__label-arrow\">RandomForestRegressor</label><div class=\"sk-toggleable__content\"><pre>RandomForestRegressor(random_state=42)</pre></div></div></div></div></div>"
      ],
      "text/plain": [
       "RandomForestRegressor(random_state=42)"
      ]
     },
     "execution_count": 1,
     "metadata": {},
     "output_type": "execute_result"
    }
   ],
   "source": [
    "import pandas as pd\n",
    "import numpy as np\n",
    "from sklearn.model_selection import train_test_split\n",
    "from sklearn.preprocessing import StandardScaler\n",
    "from sklearn.ensemble import RandomForestRegressor\n",
    "\n",
    "# 1. Load dataset\n",
    "url = \"https://archive.ics.uci.edu/ml/machine-learning-databases/00242/ENB2012_data.xlsx\"\n",
    "data = pd.read_excel(url)\n",
    "\n",
    "data.columns = [\n",
    "    'Relative_Compactness', 'Surface_Area', 'Wall_Area', 'Roof_Area',\n",
    "    'Overall_Height', 'Orientation', 'Glazing_Area', 'Glazing_Area_Distribution',\n",
    "    'Heating_Load', 'Cooling_Load'\n",
    "]\n",
    "\n",
    "X = data.iloc[:, :-2]\n",
    "y = data.iloc[:, -2:]\n",
    "\n",
    "# 2. Train Test Split + Scaling\n",
    "X_train, X_test, y_train, y_test = train_test_split(X, y, test_size=0.2, random_state=42)\n",
    "\n",
    "scaler = StandardScaler()\n",
    "X_train_scaled = scaler.fit_transform(X_train)\n",
    "X_test_scaled = scaler.transform(X_test)\n",
    "\n",
    "# 3. Train Random Forest\n",
    "rf = RandomForestRegressor(n_estimators=100, random_state=42)\n",
    "rf.fit(X_train_scaled, y_train)\n"
   ]
  },
  {
   "cell_type": "code",
   "execution_count": 3,
   "id": "9b7184e6-d3df-488e-9559-e8d450a745ed",
   "metadata": {},
   "outputs": [
    {
     "data": {
      "text/plain": [
       "['energy_efficiency_model.pkl']"
      ]
     },
     "execution_count": 3,
     "metadata": {},
     "output_type": "execute_result"
    }
   ],
   "source": [
    "import joblib\n",
    "joblib.dump(rf, \"energy_efficiency_model.pkl\")\n"
   ]
  },
  {
   "cell_type": "code",
   "execution_count": 4,
   "id": "2d66c5c9-790b-4cca-9113-3a0f0dbb3fa1",
   "metadata": {},
   "outputs": [],
   "source": [
    "import joblib\n",
    "model = joblib.load(\"energy_efficiency_model.pkl\")\n"
   ]
  },
  {
   "cell_type": "code",
   "execution_count": 5,
   "id": "abbbc62e-92d2-41d2-835d-2683c9bbc126",
   "metadata": {},
   "outputs": [
    {
     "name": "stdout",
     "output_type": "stream",
     "text": [
      "✅ Model & Scaler saved successfully!\n"
     ]
    },
    {
     "data": {
      "application/vnd.jupyter.widget-view+json": {
       "model_id": "7f556ff51acf458d913c6f2063c209a5",
       "version_major": 2,
       "version_minor": 0
      },
      "text/plain": [
       "VBox(children=(FloatSlider(value=0.8, description='Relative Compactness', max=1.0, min=0.6, step=0.01), FloatS…"
      ]
     },
     "metadata": {},
     "output_type": "display_data"
    },
    {
     "data": {
      "application/vnd.jupyter.widget-view+json": {
       "model_id": "15b353bacd844d6e9a8a45828f079b37",
       "version_major": 2,
       "version_minor": 0
      },
      "text/plain": [
       "Output()"
      ]
     },
     "metadata": {},
     "output_type": "display_data"
    }
   ],
   "source": [
    "# -----------------------\n",
    "# 1. Import Libraries\n",
    "# -----------------------\n",
    "import pandas as pd\n",
    "import numpy as np\n",
    "import joblib\n",
    "from sklearn.model_selection import train_test_split\n",
    "from sklearn.preprocessing import StandardScaler\n",
    "from sklearn.ensemble import RandomForestRegressor\n",
    "import ipywidgets as widgets\n",
    "from IPython.display import display\n",
    "\n",
    "# -----------------------\n",
    "# 2. Load Dataset\n",
    "# -----------------------\n",
    "url = \"https://archive.ics.uci.edu/ml/machine-learning-databases/00242/ENB2012_data.xlsx\"\n",
    "data = pd.read_excel(url)\n",
    "\n",
    "# Rename columns\n",
    "data.columns = [\n",
    "    'Relative_Compactness', 'Surface_Area', 'Wall_Area', 'Roof_Area',\n",
    "    'Overall_Height', 'Orientation', 'Glazing_Area', 'Glazing_Area_Distribution',\n",
    "    'Heating_Load', 'Cooling_Load'\n",
    "]\n",
    "\n",
    "X = data.iloc[:, :-2]\n",
    "y = data.iloc[:, -2:]\n",
    "\n",
    "# -----------------------\n",
    "# 3. Train Test Split + Scaling\n",
    "# -----------------------\n",
    "X_train, X_test, y_train, y_test = train_test_split(\n",
    "    X, y, test_size=0.2, random_state=42\n",
    ")\n",
    "\n",
    "scaler = StandardScaler()\n",
    "X_train_scaled = scaler.fit_transform(X_train)\n",
    "X_test_scaled = scaler.transform(X_test)\n",
    "\n",
    "# -----------------------\n",
    "# 4. Train Best Model (Random Forest)\n",
    "# -----------------------\n",
    "rf = RandomForestRegressor(n_estimators=100, random_state=42)\n",
    "rf.fit(X_train_scaled, y_train)\n",
    "\n",
    "# -----------------------\n",
    "# 5. Save Model\n",
    "# -----------------------\n",
    "joblib.dump(rf, \"energy_efficiency_model.pkl\")\n",
    "joblib.dump(scaler, \"scaler.pkl\")   # save scaler also\n",
    "\n",
    "print(\"✅ Model & Scaler saved successfully!\")\n",
    "\n",
    "# -----------------------\n",
    "# 6. Load Model & Scaler for Deployment\n",
    "# -----------------------\n",
    "model = joblib.load(\"energy_efficiency_model.pkl\")\n",
    "scaler = joblib.load(\"scaler.pkl\")\n",
    "\n",
    "# -----------------------\n",
    "# 7. Prediction Function\n",
    "# -----------------------\n",
    "def predict_energy(rc, sa, wa, ra, oh, ornt, ga, gad):\n",
    "    input_data = pd.DataFrame([[rc, sa, wa, ra, oh, ornt, ga, gad]], columns=X.columns)\n",
    "    input_scaled = scaler.transform(input_data)\n",
    "    pred = model.predict(input_scaled)[0]\n",
    "    print(f\"🔥 Predicted Heating Load: {pred[0]:.2f}\")\n",
    "    print(f\"❄️ Predicted Cooling Load: {pred[1]:.2f}\")\n",
    "\n",
    "# -----------------------\n",
    "# 8. Interactive UI with Sliders & Dropdowns\n",
    "# -----------------------\n",
    "rc = widgets.FloatSlider(value=0.8, min=0.6, max=1.0, step=0.01, description='Relative Compactness')\n",
    "sa = widgets.FloatSlider(value=650, min=500, max=800, step=10, description='Surface Area')\n",
    "wa = widgets.FloatSlider(value=300, min=200, max=400, step=10, description='Wall Area')\n",
    "ra = widgets.FloatSlider(value=150, min=100, max=220, step=5, description='Roof Area')\n",
    "oh = widgets.Dropdown(options=[3.5, 7.0], description='Overall Height')\n",
    "ornt = widgets.Dropdown(options=[2,3,4,5], description='Orientation')\n",
    "ga = widgets.FloatSlider(value=0.25, min=0.0, max=0.4, step=0.05, description='Glazing Area')\n",
    "gad = widgets.Dropdown(options=[0,1,2,3,4,5], description='Glazing Area Dist.')\n",
    "\n",
    "ui = widgets.VBox([rc, sa, wa, ra, oh, ornt, ga, gad])\n",
    "out = widgets.interactive_output(predict_energy, {\n",
    "    'rc': rc, 'sa': sa, 'wa': wa, 'ra': ra,\n",
    "    'oh': oh, 'ornt': ornt, 'ga': ga, 'gad': gad\n",
    "})\n",
    "\n",
    "display(ui, out)\n"
   ]
  },
  {
   "cell_type": "code",
   "execution_count": null,
   "id": "4ae015fc-6f53-4fb4-b8c0-90b77ed0b041",
   "metadata": {},
   "outputs": [],
   "source": []
  },
  {
   "cell_type": "code",
   "execution_count": null,
   "id": "39c2e41b-775c-45f3-ab63-fa0aabaafe43",
   "metadata": {},
   "outputs": [],
   "source": []
  }
 ],
 "metadata": {
  "kernelspec": {
   "display_name": "Python 3 (ipykernel)",
   "language": "python",
   "name": "python3"
  },
  "language_info": {
   "codemirror_mode": {
    "name": "ipython",
    "version": 3
   },
   "file_extension": ".py",
   "mimetype": "text/x-python",
   "name": "python",
   "nbconvert_exporter": "python",
   "pygments_lexer": "ipython3",
   "version": "3.9.18"
  }
 },
 "nbformat": 4,
 "nbformat_minor": 5
}
